{
 "cells": [
  {
   "cell_type": "markdown",
   "id": "2202381f-dc45-425c-a661-30d4249e1412",
   "metadata": {},
   "source": [
    "First, cd to the file folder that has the relevant uncal.fits file.\n",
    "\n",
    "Then, in the tsch shell,"
   ]
  },
  {
   "cell_type": "code",
   "execution_count": null,
   "id": "1d7f490c-e481-4707-ba16-68cede808741",
   "metadata": {},
   "outputs": [
    {
     "name": "stdout",
     "output_type": "stream",
     "text": [
      "Retrieving notices: ...working... done\n",
      "WARNING: A conda environment already exists at '/usr/local/anaconda3/envs/jwst_env'\n",
      "Remove existing environment (y/[n])? "
     ]
    }
   ],
   "source": [
    "conda create -n jwst_env python=3.11"
   ]
  },
  {
   "cell_type": "code",
   "execution_count": null,
   "id": "4d240487-c66e-455e-98a7-bf412a2636fc",
   "metadata": {},
   "outputs": [],
   "source": [
    "conda activate jwst_env"
   ]
  },
  {
   "cell_type": "code",
   "execution_count": null,
   "id": "f22e8292-4a75-455d-bb8e-02041617291f",
   "metadata": {},
   "outputs": [],
   "source": [
    "pip3 install jwst"
   ]
  },
  {
   "cell_type": "code",
   "execution_count": null,
   "id": "f6100373-e0cb-4fe6-a6a1-fe74a4d3a210",
   "metadata": {},
   "outputs": [],
   "source": [
    "pip3 install jupyter"
   ]
  },
  {
   "cell_type": "markdown",
   "id": "6c994100-d014-4a52-bd6d-7ad97b341e96",
   "metadata": {},
   "source": [
    "In a bash shell (activate using the command 'bash'), "
   ]
  },
  {
   "cell_type": "code",
   "execution_count": null,
   "id": "da512747-0999-4a18-b7c7-86675472d50c",
   "metadata": {},
   "outputs": [],
   "source": [
    "mkdir $HOME/crds_cache"
   ]
  },
  {
   "cell_type": "code",
   "execution_count": null,
   "id": "6f940fa6-fd3a-43ec-a6d6-8324b4117a9a",
   "metadata": {},
   "outputs": [],
   "source": []
  }
 ],
 "metadata": {
  "kernelspec": {
   "display_name": "Python 3 (ipykernel)",
   "language": "python",
   "name": "python3"
  },
  "language_info": {
   "codemirror_mode": {
    "name": "ipython",
    "version": 3
   },
   "file_extension": ".py",
   "mimetype": "text/x-python",
   "name": "python",
   "nbconvert_exporter": "python",
   "pygments_lexer": "ipython3",
   "version": "3.9.12"
  }
 },
 "nbformat": 4,
 "nbformat_minor": 5
}
