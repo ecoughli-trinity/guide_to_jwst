{
 "cells": [
  {
   "cell_type": "markdown",
   "id": "a675548d-507c-4f84-813b-e63c04424b66",
   "metadata": {},
   "source": [
    "# Running the _JWST_ Pipeline"
   ]
  },
  {
   "cell_type": "markdown",
   "id": "1ab50332-f29f-486f-815e-d89631dc767e",
   "metadata": {},
   "source": [
    "### Basic set-up"
   ]
  },
  {
   "cell_type": "markdown",
   "id": "2202381f-dc45-425c-a661-30d4249e1412",
   "metadata": {},
   "source": [
    "First, cd to the file folder that has the relevant uncal.fits file.\n",
    "\n",
    "Then, in the tsch shell,"
   ]
  },
  {
   "cell_type": "code",
   "execution_count": null,
   "id": "1d7f490c-e481-4707-ba16-68cede808741",
   "metadata": {},
   "outputs": [],
   "source": [
    "conda create -n jwst_env python=3.11"
   ]
  },
  {
   "cell_type": "code",
   "execution_count": null,
   "id": "4d240487-c66e-455e-98a7-bf412a2636fc",
   "metadata": {},
   "outputs": [],
   "source": [
    "conda activate jwst_env"
   ]
  },
  {
   "cell_type": "code",
   "execution_count": null,
   "id": "f22e8292-4a75-455d-bb8e-02041617291f",
   "metadata": {},
   "outputs": [],
   "source": [
    "pip3 install jwst"
   ]
  },
  {
   "cell_type": "code",
   "execution_count": null,
   "id": "f6100373-e0cb-4fe6-a6a1-fe74a4d3a210",
   "metadata": {},
   "outputs": [],
   "source": [
    "pip3 install jupyter"
   ]
  },
  {
   "cell_type": "markdown",
   "id": "6c994100-d014-4a52-bd6d-7ad97b341e96",
   "metadata": {},
   "source": [
    "In a bash shell (activate using the command 'bash'), "
   ]
  },
  {
   "cell_type": "code",
   "execution_count": null,
   "id": "da512747-0999-4a18-b7c7-86675472d50c",
   "metadata": {},
   "outputs": [],
   "source": [
    "mkdir $HOME/crds_cache\n",
    "export CRDS_PATH=$HOME/crds_cache\n",
    "export CRDS_SERVER_URL=https://jwst-crds.stsci.edu"
   ]
  },
  {
   "cell_type": "markdown",
   "id": "016eeea1-a535-4b56-9328-a777e850c9c5",
   "metadata": {},
   "source": [
    "Alternatively, the two environment variables can be set in tsch using:"
   ]
  },
  {
   "cell_type": "code",
   "execution_count": null,
   "id": "2b00dca0-489b-4cc0-b52a-2058b7d5174b",
   "metadata": {},
   "outputs": [],
   "source": [
    "setenv CRDS_PATH $HOME/crds_cache\n",
    "setenv CRDS_SERVER_URL https://jwst-crds.stsci.edu"
   ]
  },
  {
   "cell_type": "markdown",
   "id": "5fe25d55-2a5e-4725-9b29-a992e11f2e9c",
   "metadata": {},
   "source": [
    "Using the command 'printenv,' confirm that the two environment variables have been correctly set.  They must be defined before importing any _JWST_ or CRDS software pacakges.\n",
    "\n",
    "Additionally, do not modify the 'context' parameter to anything other than the default, as it is a .pars file that changes."
   ]
  },
  {
   "cell_type": "markdown",
   "id": "9869508c-30d6-4d35-a171-a795ceddb233",
   "metadata": {},
   "source": [
    "### Stage 1: calwebb\\_detector1"
   ]
  },
  {
   "cell_type": "markdown",
   "id": "90a13e04-039d-4b5a-9d89-bdf10f5281aa",
   "metadata": {},
   "source": [
    "This initial stage applies basic detector-level corrections to all exposure types, one exposure at a time."
   ]
  },
  {
   "cell_type": "markdown",
   "id": "b94ff258-9469-48af-807e-3b2fad8b3ad1",
   "metadata": {},
   "source": [
    "To run the full pipeline, "
   ]
  },
  {
   "cell_type": "code",
   "execution_count": null,
   "id": "9c025224-3329-4690-9959-476a82a42936",
   "metadata": {},
   "outputs": [],
   "source": [
    "python\n",
    "\n",
    "import jwst\n",
    "import crds\n",
    "file_name = 'EXAMPLE.FITS'\n",
    "\n",
    "from jwst.pipeline import Detector1Pipeline\n",
    "result = Detector1Pipeline.call(file_name, save_results=True)"
   ]
  },
  {
   "cell_type": "markdown",
   "id": "cd9f0786-e0c0-4bd4-97aa-bc51ee557594",
   "metadata": {},
   "source": [
    "The first time this is run, the CRDS server should download all of the context/reference files needed for that run and place them in the CRDS_PATH-indicated directory."
   ]
  },
  {
   "cell_type": "markdown",
   "id": "b8f193a9-c28d-41b1-9002-ed102b6d0f69",
   "metadata": {},
   "source": [
    "BE PATIENT!"
   ]
  },
  {
   "cell_type": "code",
   "execution_count": null,
   "id": "269b7290-e2e9-4473-b703-d7f6a334b26c",
   "metadata": {},
   "outputs": [],
   "source": []
  }
 ],
 "metadata": {
  "kernelspec": {
   "display_name": "Python 3 (ipykernel)",
   "language": "python",
   "name": "python3"
  },
  "language_info": {
   "codemirror_mode": {
    "name": "ipython",
    "version": 3
   },
   "file_extension": ".py",
   "mimetype": "text/x-python",
   "name": "python",
   "nbconvert_exporter": "python",
   "pygments_lexer": "ipython3",
   "version": "3.9.12"
  }
 },
 "nbformat": 4,
 "nbformat_minor": 5
}
